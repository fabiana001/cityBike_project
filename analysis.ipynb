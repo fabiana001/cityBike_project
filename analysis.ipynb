{
 "cells": [
  {
   "cell_type": "code",
   "execution_count": 1,
   "metadata": {},
   "outputs": [],
   "source": [
    "import pandas as pd\n",
    "import numpy as np\n",
    "\n",
    "%matplotlib inline\n",
    "import numpy as np\n",
    "import matplotlib.pyplot as plt\n",
    "from mpl_toolkits.basemap import Basemap\n",
    "import matplotlib.pyplot as plt"
   ]
  },
  {
   "cell_type": "code",
   "execution_count": 2,
   "metadata": {},
   "outputs": [
    {
     "name": "stdout",
     "output_type": "stream",
     "text": [
      "Dataset shape  (149, 5)\n"
     ]
    },
    {
     "data": {
      "text/html": [
       "<div>\n",
       "<style scoped>\n",
       "    .dataframe tbody tr th:only-of-type {\n",
       "        vertical-align: middle;\n",
       "    }\n",
       "\n",
       "    .dataframe tbody tr th {\n",
       "        vertical-align: top;\n",
       "    }\n",
       "\n",
       "    .dataframe thead th {\n",
       "        text-align: right;\n",
       "    }\n",
       "</style>\n",
       "<table border=\"1\" class=\"dataframe\">\n",
       "  <thead>\n",
       "    <tr style=\"text-align: right;\">\n",
       "      <th></th>\n",
       "      <th>address</th>\n",
       "      <th>latitude</th>\n",
       "      <th>longitude</th>\n",
       "      <th>name</th>\n",
       "      <th>number</th>\n",
       "    </tr>\n",
       "  </thead>\n",
       "  <tbody>\n",
       "    <tr>\n",
       "      <th>0</th>\n",
       "      <td>Lower River Tce / Ellis St</td>\n",
       "      <td>-27.482279</td>\n",
       "      <td>153.028723</td>\n",
       "      <td>122 - LOWER RIVER TCE / ELLIS ST</td>\n",
       "      <td>122</td>\n",
       "    </tr>\n",
       "    <tr>\n",
       "      <th>1</th>\n",
       "      <td>Main St / Darragh St</td>\n",
       "      <td>-27.470590</td>\n",
       "      <td>153.036046</td>\n",
       "      <td>91 - MAIN ST / DARRAGH ST</td>\n",
       "      <td>91</td>\n",
       "    </tr>\n",
       "    <tr>\n",
       "      <th>2</th>\n",
       "      <td>Sydney St Ferry Terminal / Park</td>\n",
       "      <td>-27.474531</td>\n",
       "      <td>153.042728</td>\n",
       "      <td>88 - SYDNEY ST FERRY TERMINAL / PARK</td>\n",
       "      <td>88</td>\n",
       "    </tr>\n",
       "    <tr>\n",
       "      <th>3</th>\n",
       "      <td>Browne St / James St</td>\n",
       "      <td>-27.461881</td>\n",
       "      <td>153.046986</td>\n",
       "      <td>75 - BROWNE ST / JAMES ST</td>\n",
       "      <td>75</td>\n",
       "    </tr>\n",
       "    <tr>\n",
       "      <th>4</th>\n",
       "      <td>Kurilpa Point / Montague Rd</td>\n",
       "      <td>-27.469658</td>\n",
       "      <td>153.016696</td>\n",
       "      <td>98 - KURILPA POINT / MONTAGUE RD</td>\n",
       "      <td>98</td>\n",
       "    </tr>\n",
       "  </tbody>\n",
       "</table>\n",
       "</div>"
      ],
      "text/plain": [
       "                           address   latitude   longitude  \\\n",
       "0       Lower River Tce / Ellis St -27.482279  153.028723   \n",
       "1             Main St / Darragh St -27.470590  153.036046   \n",
       "2  Sydney St Ferry Terminal / Park -27.474531  153.042728   \n",
       "3             Browne St / James St -27.461881  153.046986   \n",
       "4      Kurilpa Point / Montague Rd -27.469658  153.016696   \n",
       "\n",
       "                                   name  number  \n",
       "0      122 - LOWER RIVER TCE / ELLIS ST     122  \n",
       "1             91 - MAIN ST / DARRAGH ST      91  \n",
       "2  88 - SYDNEY ST FERRY TERMINAL / PARK      88  \n",
       "3             75 - BROWNE ST / JAMES ST      75  \n",
       "4      98 - KURILPA POINT / MONTAGUE RD      98  "
      ]
     },
     "execution_count": 2,
     "metadata": {},
     "output_type": "execute_result"
    }
   ],
   "source": [
    "data = pd.read_json('Brisbane_CityBike.json')\n",
    "print(\"Dataset shape \", data.shape)\n",
    "data.head()"
   ]
  },
  {
   "cell_type": "code",
   "execution_count": 3,
   "metadata": {},
   "outputs": [],
   "source": [
    "#def transform(s):\n",
    "#    tokens = s.split('-', 1)\n",
    "#    if(len(tokens)>1):\n",
    "#        return tokens[1].strip()\n",
    "#    return None\n",
    "#\n",
    "#data['corner_1'], data['corner_2'] = data['name'].str.split('/', 1).str\n",
    "#\n",
    "#data['corner_1'] = data['corner_1'].apply( lambda x: transform(x))\n",
    "#\n",
    "#data['corner_2'] = data['corner_2'].str.strip()\n",
    "#\n",
    "#data.head()"
   ]
  },
  {
   "cell_type": "markdown",
   "metadata": {},
   "source": [
    "## HDBSCAN clustering on coordinates"
   ]
  },
  {
   "cell_type": "code",
   "execution_count": 4,
   "metadata": {},
   "outputs": [
    {
     "name": "stdout",
     "output_type": "stream",
     "text": [
      "Extracted Clusters:  6\n"
     ]
    }
   ],
   "source": [
    "#Apply haversine distance on RADIANS\n",
    "#http://hdbscan.readthedocs.io/en/latest/faq.html?highlight=lat%20lon%27#q-haversine-metric-is-not-clustering-my-lat-lon-data-correctly\n",
    "import hdbscan\n",
    "points = list(zip(data.latitude, data.longitude))\n",
    "rads = np.radians(points)\n",
    "clusterer = hdbscan.HDBSCAN(min_cluster_size=4, metric='haversine')\n",
    "cluster_label_haversines = clusterer.fit_predict(rads)\n",
    "print(\"Extracted Clusters: \", len(set(cluster_label_haversines)))"
   ]
  },
  {
   "cell_type": "code",
   "execution_count": 5,
   "metadata": {},
   "outputs": [
    {
     "name": "stdout",
     "output_type": "stream",
     "text": [
      "Extracted Clusters:  7\n"
     ]
    }
   ],
   "source": [
    "#Apply euclidean distance on original data\n",
    "import hdbscan\n",
    "points = list(zip(data.latitude, data.longitude))\n",
    "\n",
    "clusterer = hdbscan.HDBSCAN(min_cluster_size=3, metric='euclidean')\n",
    "cluster_labels_euclidean = clusterer.fit_predict(points)\n",
    "print(\"Extracted Clusters: \", len(set(cluster_labels_euclidean)))"
   ]
  },
  {
   "cell_type": "markdown",
   "metadata": {},
   "source": [
    "## Data Visualization"
   ]
  },
  {
   "cell_type": "code",
   "execution_count": 6,
   "metadata": {},
   "outputs": [],
   "source": [
    "c_lat =  data[\"latitude\"].mean()\n",
    "c_lon = data[\"longitude\"].mean()\n",
    "\n",
    "cluster_labels = cluster_labels_euclidean "
   ]
  },
  {
   "cell_type": "code",
   "execution_count": 7,
   "metadata": {},
   "outputs": [],
   "source": [
    "\n",
    "palette = ['#a6cee3','#1f78b4','#b2df8a','#33a02c','#fb9a99','#e31a1c','#fdbf6f','#ff7f00','#cab2d6','#6a3d9a','#ffff99']\n",
    "\n",
    "classes = range(-1, len(palette) -1)\n",
    "colors = dict(zip(classes, palette))\n",
    "\n",
    "c_array = [colors[x]for x in cluster_labels]\n",
    "\n",
    "from gmplot import gmplot\n",
    "gmap = gmplot.GoogleMapPlotter(c_lat, c_lon, 14)\n",
    "for c in classes:\n",
    "    index = [i for i,v in enumerate(cluster_labels) if cluster_labels[i]==c]\n",
    "    subset = data.iloc[index]\n",
    "    if(c==-1):\n",
    "        color = \"#000000\"\n",
    "    else:\n",
    "        color = colors[c]\n",
    "    gmap.scatter(subset[\"latitude\"], subset[\"longitude\"], c = color, size=60, marker=False, face_color= \"#FF0000\", face_alpha= 1)\n",
    "    #gmap.heatmap(data[\"latitude\"], data[\"longitude\"], radius=30)\n",
    "    gmap.draw(\"my_map2.html\")\n",
    "\n",
    "#open the html page with a browser    "
   ]
  },
  {
   "cell_type": "code",
   "execution_count": 8,
   "metadata": {},
   "outputs": [],
   "source": [
    "gmap.heatmap(data[\"latitude\"], data[\"longitude\"], radius=50)\n",
    "gmap.draw(\"my_map3.html\")"
   ]
  },
  {
   "cell_type": "code",
   "execution_count": 9,
   "metadata": {},
   "outputs": [],
   "source": [
    "\n",
    "#filename = \"my_map3\"\n",
    "#\n",
    "#from selenium import webdriver    \n",
    "#from xvfbwrapper import Xvfb\n",
    "#d=Xvfb(width=400,height=400)\n",
    "#d.start()\n",
    "#browser=webdriver.Firefox()\n",
    "#url=filename+ \".html\"\n",
    "#browser.get(url)\n",
    "#destination=filename +\".jpg\"\n",
    "#if browser.save_screenshot(destination):\n",
    "#    print(\"File saved in the destination filename\")\n",
    "#browser.quit()"
   ]
  },
  {
   "cell_type": "code",
   "execution_count": null,
   "metadata": {},
   "outputs": [],
   "source": []
  }
 ],
 "metadata": {
  "kernelspec": {
   "display_name": "Python 3",
   "language": "python",
   "name": "python3"
  },
  "language_info": {
   "codemirror_mode": {
    "name": "ipython",
    "version": 3
   },
   "file_extension": ".py",
   "mimetype": "text/x-python",
   "name": "python",
   "nbconvert_exporter": "python",
   "pygments_lexer": "ipython3",
   "version": "3.6.3"
  }
 },
 "nbformat": 4,
 "nbformat_minor": 2
}
